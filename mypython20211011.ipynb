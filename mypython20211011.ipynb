{
  "nbformat": 4,
  "nbformat_minor": 0,
  "metadata": {
    "colab": {
      "name": "mypython20211011",
      "provenance": [],
      "collapsed_sections": [],
      "authorship_tag": "ABX9TyOTsysms3GYUGYxlzQlQyzj",
      "include_colab_link": true
    },
    "kernelspec": {
      "name": "python3",
      "display_name": "Python 3"
    },
    "language_info": {
      "name": "python"
    }
  },
  "cells": [
    {
      "cell_type": "markdown",
      "metadata": {
        "id": "view-in-github",
        "colab_type": "text"
      },
      "source": [
        "<a href=\"https://colab.research.google.com/github/trishalimbo18/Work/blob/main/mypython20211011.ipynb\" target=\"_parent\"><img src=\"https://colab.research.google.com/assets/colab-badge.svg\" alt=\"Open In Colab\"/></a>"
      ]
    },
    {
      "cell_type": "markdown",
      "metadata": {
        "id": "nj0dxPFRRKtG"
      },
      "source": [
        "# **python Data Type**\n",
        "\n",
        "DATE: 2021011\n",
        "\n",
        "ENGLISH NAME: Trisha Joyce N. Limbo\n",
        "\n",
        "CHINESE NAME: 乔伊 4100E219"
      ]
    },
    {
      "cell_type": "markdown",
      "metadata": {
        "id": "EB_TMa0_RRPG"
      },
      "source": [
        "# **1_Numerics Data Type**"
      ]
    },
    {
      "cell_type": "markdown",
      "metadata": {
        "id": "i_Ypq4rHRx0X"
      },
      "source": [
        "# **Arithmetic operators**"
      ]
    },
    {
      "cell_type": "code",
      "metadata": {
        "colab": {
          "base_uri": "https://localhost:8080/"
        },
        "id": "wtr1F2ScSS9K",
        "outputId": "c8a459e3-1b85-42b8-c467-7917271d2c99"
      },
      "source": [
        "a = 25 / 7\n",
        "a"
      ],
      "execution_count": 1,
      "outputs": [
        {
          "output_type": "execute_result",
          "data": {
            "text/plain": [
              "3.5714285714285716"
            ]
          },
          "metadata": {},
          "execution_count": 1
        }
      ]
    },
    {
      "cell_type": "code",
      "metadata": {
        "colab": {
          "base_uri": "https://localhost:8080/"
        },
        "id": "6I39HDVaSj90",
        "outputId": "500329a4-9f1c-42bc-f9cb-8a3d104dd203"
      },
      "source": [
        "b = 25 // 7\n",
        "b"
      ],
      "execution_count": 2,
      "outputs": [
        {
          "output_type": "execute_result",
          "data": {
            "text/plain": [
              "3"
            ]
          },
          "metadata": {},
          "execution_count": 2
        }
      ]
    },
    {
      "cell_type": "code",
      "metadata": {
        "colab": {
          "base_uri": "https://localhost:8080/"
        },
        "id": "IqoC6dEZSreR",
        "outputId": "f3e07ede-c1f1-4b63-b523-c3add1f0faac"
      },
      "source": [
        "c = 25 % 7\n",
        "c"
      ],
      "execution_count": 3,
      "outputs": [
        {
          "output_type": "execute_result",
          "data": {
            "text/plain": [
              "4"
            ]
          },
          "metadata": {},
          "execution_count": 3
        }
      ]
    },
    {
      "cell_type": "markdown",
      "metadata": {
        "id": "BjSrloRUSws-"
      },
      "source": [
        "25 = 7*3 + 4 (remainder)"
      ]
    },
    {
      "cell_type": "markdown",
      "metadata": {
        "id": "vXoFEaX2Sz_F"
      },
      "source": [
        "# **Logical operators**"
      ]
    },
    {
      "cell_type": "code",
      "metadata": {
        "colab": {
          "base_uri": "https://localhost:8080/"
        },
        "id": "qiXpNDyCTEds",
        "outputId": "3daad612-1afa-4877-ee4c-721155d66212"
      },
      "source": [
        "x = 10\n",
        "print(x > 6 and x < 20)"
      ],
      "execution_count": 4,
      "outputs": [
        {
          "output_type": "stream",
          "name": "stdout",
          "text": [
            "True\n"
          ]
        }
      ]
    },
    {
      "cell_type": "markdown",
      "metadata": {
        "id": "cRB6e9YVTJva"
      },
      "source": [
        "x = 10 ==> [x > 6] true\n",
        "\n",
        "[x < 20] true\n",
        "\n",
        "[x > 6] and [x < 20] ==> True and true ==> true"
      ]
    },
    {
      "cell_type": "code",
      "metadata": {
        "colab": {
          "base_uri": "https://localhost:8080/"
        },
        "id": "T6yiu8zETNlP",
        "outputId": "4f032dff-8915-41a4-83d0-d5795237fcd2"
      },
      "source": [
        "x = 10\n",
        "print(x > 6 and x > 20)"
      ],
      "execution_count": 5,
      "outputs": [
        {
          "output_type": "stream",
          "name": "stdout",
          "text": [
            "False\n"
          ]
        }
      ]
    },
    {
      "cell_type": "markdown",
      "metadata": {
        "id": "sY4jXjk8TVIz"
      },
      "source": [
        "x = 10 ==> [x > 6] Ture | [x>20] False\n",
        "\n",
        "[True] and [False] ==> False\n",
        "\n",
        "[True] and [True] ==> True\n",
        "\n",
        "[True] and [False] ==> False\n",
        "\n",
        "[False] and [True] ==> False\n",
        "\n",
        "[False] and [False] ==> False"
      ]
    },
    {
      "cell_type": "markdown",
      "metadata": {
        "id": "jJQtkk5HTb03"
      },
      "source": [
        "# **Built-in functions**"
      ]
    },
    {
      "cell_type": "code",
      "metadata": {
        "colab": {
          "base_uri": "https://localhost:8080/",
          "height": 35
        },
        "id": "WRis2ONNTd6o",
        "outputId": "b08bbb38-2706-458f-bbf6-fbe005b84534"
      },
      "source": [
        "bin(18)"
      ],
      "execution_count": 11,
      "outputs": [
        {
          "output_type": "execute_result",
          "data": {
            "application/vnd.google.colaboratory.intrinsic+json": {
              "type": "string"
            },
            "text/plain": [
              "'0b10010'"
            ]
          },
          "metadata": {},
          "execution_count": 11
        }
      ]
    },
    {
      "cell_type": "code",
      "metadata": {
        "colab": {
          "base_uri": "https://localhost:8080/"
        },
        "id": "uEYH9Za-VLRi",
        "outputId": "05ab67b0-ccaf-4c4f-b30b-3d3a20670b1b"
      },
      "source": [
        "0b10010"
      ],
      "execution_count": 12,
      "outputs": [
        {
          "output_type": "execute_result",
          "data": {
            "text/plain": [
              "18"
            ]
          },
          "metadata": {},
          "execution_count": 12
        }
      ]
    },
    {
      "cell_type": "markdown",
      "metadata": {
        "id": "uQ7XsEYcVyMF"
      },
      "source": [
        "# **2_string data type**"
      ]
    },
    {
      "cell_type": "markdown",
      "metadata": {
        "id": "dzJsKujVXHIL"
      },
      "source": [
        "# **operation on strings**\n",
        "index"
      ]
    },
    {
      "cell_type": "code",
      "metadata": {
        "colab": {
          "base_uri": "https://localhost:8080/"
        },
        "id": "l7Zn4VkqXMeJ",
        "outputId": "00bc3b6f-6d60-4a18-eec4-e465493e2d8d"
      },
      "source": [
        "var1 = 'Trisha Joyce!'\n",
        "print(\"var1[2]: \", var1[2])"
      ],
      "execution_count": 17,
      "outputs": [
        {
          "output_type": "stream",
          "name": "stdout",
          "text": [
            "var1[2]:  i\n"
          ]
        }
      ]
    },
    {
      "cell_type": "markdown",
      "metadata": {
        "id": "tEYIK1NWX5Cn"
      },
      "source": [
        "var1[2]: i\n",
        "\n",
        "var1 = 'Trisha Joyce!'\n",
        "\n",
        "var1[0] ==> T\n",
        "\n",
        "var1[1] ==> r\n",
        "\n",
        "var1[2]: i\n",
        "\n",
        "and so on"
      ]
    },
    {
      "cell_type": "markdown",
      "metadata": {
        "id": "c8nfn-EsYShQ"
      },
      "source": [
        "# **slice operation**"
      ]
    },
    {
      "cell_type": "code",
      "metadata": {
        "colab": {
          "base_uri": "https://localhost:8080/"
        },
        "id": "J_hLcRK0YUUP",
        "outputId": "d1d2e45b-0d8c-489e-91e6-1612a7d67e54"
      },
      "source": [
        "b = \"Hello, Trisha!\"\n",
        "#print(b[2:4])\n",
        "#print(b[:5])\n",
        "#print(b[1:])\n",
        "print(b[-4:-1])"
      ],
      "execution_count": 19,
      "outputs": [
        {
          "output_type": "stream",
          "name": "stdout",
          "text": [
            "sha\n"
          ]
        }
      ]
    },
    {
      "cell_type": "markdown",
      "metadata": {
        "id": "xQXuJdyHZHKV"
      },
      "source": [
        "# **Python string method**"
      ]
    },
    {
      "cell_type": "code",
      "metadata": {
        "colab": {
          "base_uri": "https://localhost:8080/"
        },
        "id": "ay3Dk7nBZIsi",
        "outputId": "346f37ea-a663-49ff-8056-53a4159a9133"
      },
      "source": [
        "txt = \"hello, my name is Trisha Joyce.\"\n",
        "\n",
        "x = txt.capitalize()\n",
        "\n",
        "print (x)"
      ],
      "execution_count": 20,
      "outputs": [
        {
          "output_type": "stream",
          "name": "stdout",
          "text": [
            "Hello, my name is trisha joyce.\n"
          ]
        }
      ]
    },
    {
      "cell_type": "markdown",
      "metadata": {
        "id": "0hB3UQ2uZW-M"
      },
      "source": [
        "# **Python String join() Method**"
      ]
    },
    {
      "cell_type": "code",
      "metadata": {
        "colab": {
          "base_uri": "https://localhost:8080/"
        },
        "id": "bKHZIApLZYvW",
        "outputId": "a38af9e6-4905-4515-c8d7-21daebcf7d66"
      },
      "source": [
        "myTuple = (\"Trisha\", \"Aira\", \"Kim\")\n",
        "\n",
        "x = \"#\".join(myTuple)\n",
        "\n",
        "print(x)"
      ],
      "execution_count": 21,
      "outputs": [
        {
          "output_type": "stream",
          "name": "stdout",
          "text": [
            "Trisha#Aira#Kim\n"
          ]
        }
      ]
    },
    {
      "cell_type": "code",
      "metadata": {
        "colab": {
          "base_uri": "https://localhost:8080/"
        },
        "id": "ncZUAY8VZnSM",
        "outputId": "4a5f425e-4c9c-4172-cdb4-e1b4950415f3"
      },
      "source": [
        "txt = \"grapes\"\n",
        "\n",
        "x = txt.ljust(20)\n",
        "\n",
        "print(x, \"is my favorite fruit.\")"
      ],
      "execution_count": 27,
      "outputs": [
        {
          "output_type": "stream",
          "name": "stdout",
          "text": [
            "grapes               is my favorite fruit.\n"
          ]
        }
      ]
    },
    {
      "cell_type": "code",
      "metadata": {
        "colab": {
          "base_uri": "https://localhost:8080/"
        },
        "id": "O6QAdfndZta0",
        "outputId": "a94d53c6-2f76-4d3f-f9b2-3624584b71aa"
      },
      "source": [
        "txt = \"     grapes     \"\n",
        "\n",
        "x = txt.lstrip()\n",
        "\n",
        "print(\"of all fruits\", x, \"is my favorite\")"
      ],
      "execution_count": 28,
      "outputs": [
        {
          "output_type": "stream",
          "name": "stdout",
          "text": [
            "of all fruits grapes      is my favorite\n"
          ]
        }
      ]
    },
    {
      "cell_type": "markdown",
      "metadata": {
        "id": "ilCxLkdUaSe7"
      },
      "source": [
        "# **3_list data type**"
      ]
    },
    {
      "cell_type": "code",
      "metadata": {
        "colab": {
          "base_uri": "https://localhost:8080/"
        },
        "id": "MAFSAlYudCSn",
        "outputId": "dcfbecbf-f021-406a-ae34-44904ec9fac0"
      },
      "source": [
        "list1 = [10, 65, 23, 17, 30, 97, 120]\n",
        "list1[2]"
      ],
      "execution_count": 42,
      "outputs": [
        {
          "output_type": "execute_result",
          "data": {
            "text/plain": [
              "23"
            ]
          },
          "metadata": {},
          "execution_count": 42
        }
      ]
    },
    {
      "cell_type": "markdown",
      "metadata": {
        "id": "djz1rmVQagzV"
      },
      "source": [
        "list1 = [10, 65, 23, 17, 30, 97, 101, 105]\n",
        "\n",
        "index of list \n",
        "\n",
        "list1 [0] ==> 10\n",
        "\n",
        "list1 [2] ==> 65\n",
        "\n",
        "list1 [3] ==> 23\n",
        "\n",
        "and so on..."
      ]
    },
    {
      "cell_type": "markdown",
      "metadata": {
        "id": "THqoqdfTdKQy"
      },
      "source": [
        "# **slice operation**"
      ]
    },
    {
      "cell_type": "code",
      "metadata": {
        "colab": {
          "base_uri": "https://localhost:8080/"
        },
        "id": "NM943F2FdSYg",
        "outputId": "99dd156d-2973-4b9c-9856-2580d3d88c3a"
      },
      "source": [
        "list1[2:4]"
      ],
      "execution_count": 43,
      "outputs": [
        {
          "output_type": "execute_result",
          "data": {
            "text/plain": [
              "[23, 17]"
            ]
          },
          "metadata": {},
          "execution_count": 43
        }
      ]
    },
    {
      "cell_type": "markdown",
      "metadata": {
        "id": "JMdkQzhRdbr8"
      },
      "source": [
        "# **list built-in functions**"
      ]
    },
    {
      "cell_type": "code",
      "metadata": {
        "colab": {
          "base_uri": "https://localhost:8080/"
        },
        "id": "ZFsuSL8ndfd5",
        "outputId": "643741fc-089b-4b78-d1fe-74efd5a9336a"
      },
      "source": [
        "len(list1)"
      ],
      "execution_count": 45,
      "outputs": [
        {
          "output_type": "execute_result",
          "data": {
            "text/plain": [
              "7"
            ]
          },
          "metadata": {},
          "execution_count": 45
        }
      ]
    },
    {
      "cell_type": "code",
      "metadata": {
        "colab": {
          "base_uri": "https://localhost:8080/"
        },
        "id": "Vdw3o7X-dnt0",
        "outputId": "373792ae-524f-4dd5-981a-3f3796e9aa83"
      },
      "source": [
        "\n",
        "max(list1)"
      ],
      "execution_count": 46,
      "outputs": [
        {
          "output_type": "execute_result",
          "data": {
            "text/plain": [
              "120"
            ]
          },
          "metadata": {},
          "execution_count": 46
        }
      ]
    },
    {
      "cell_type": "code",
      "metadata": {
        "colab": {
          "base_uri": "https://localhost:8080/"
        },
        "id": "GeTYbAP2drvR",
        "outputId": "fcb895cb-2011-4116-b7c3-1d128dccf9de"
      },
      "source": [
        "min(list1)"
      ],
      "execution_count": 47,
      "outputs": [
        {
          "output_type": "execute_result",
          "data": {
            "text/plain": [
              "10"
            ]
          },
          "metadata": {},
          "execution_count": 47
        }
      ]
    },
    {
      "cell_type": "markdown",
      "metadata": {
        "id": "vKOUvyxNdyfK"
      },
      "source": [
        "# **4_dict data type**"
      ]
    },
    {
      "cell_type": "code",
      "metadata": {
        "colab": {
          "base_uri": "https://localhost:8080/"
        },
        "id": "8yelYzUjd0Y2",
        "outputId": "1b04a2ec-c2f8-442e-9a27-bd9b472449c2"
      },
      "source": [
        "thisdict = {\n",
        "    \"Name\": 'Trisha', \n",
        "    \"Age\": 20, \n",
        "    \"Country\": 'Philippines'\n",
        "    }\n",
        "print(thisdict)"
      ],
      "execution_count": 48,
      "outputs": [
        {
          "output_type": "stream",
          "name": "stdout",
          "text": [
            "{'Name': 'Trisha', 'Age': 20, 'Country': 'Philippines'}\n"
          ]
        }
      ]
    },
    {
      "cell_type": "code",
      "metadata": {
        "colab": {
          "base_uri": "https://localhost:8080/"
        },
        "id": "lgpIhDSgeFhR",
        "outputId": "b9d4964e-7d59-4ec8-a5e0-3b84994fd5d1"
      },
      "source": [
        "dict = {'Name': 'Trisha', 'Age': 20, 'Country': 'Philippines'}\n",
        "print(\"dict['Country']: \", dict['Country'])"
      ],
      "execution_count": 49,
      "outputs": [
        {
          "output_type": "stream",
          "name": "stdout",
          "text": [
            "dict['Country']:  Philippines\n"
          ]
        }
      ]
    }
  ]
}