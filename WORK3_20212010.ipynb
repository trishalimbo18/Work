{
  "nbformat": 4,
  "nbformat_minor": 0,
  "metadata": {
    "colab": {
      "name": "WORK3-20212010",
      "provenance": [],
      "collapsed_sections": [],
      "authorship_tag": "ABX9TyN14qo2+JR1iEicO2knP1jK",
      "include_colab_link": true
    },
    "kernelspec": {
      "name": "python3",
      "display_name": "Python 3"
    },
    "language_info": {
      "name": "python"
    }
  },
  "cells": [
    {
      "cell_type": "markdown",
      "metadata": {
        "id": "view-in-github",
        "colab_type": "text"
      },
      "source": [
        "<a href=\"https://colab.research.google.com/github/trishalimbo18/Work/blob/%E4%B9%94%E4%BC%8A-4100E219/WORK3_20212010.ipynb\" target=\"_parent\"><img src=\"https://colab.research.google.com/assets/colab-badge.svg\" alt=\"Open In Colab\"/></a>"
      ]
    },
    {
      "cell_type": "markdown",
      "metadata": {
        "id": "ABOA2UmSY4z-"
      },
      "source": [
        "DATE: 20212010\n",
        "\n",
        "ENGLISH NAME: Trisha Joyce N. Limbo\n",
        "\n",
        "CHINESE NAME AND KSU ID: 喬伊 4100E219"
      ]
    },
    {
      "cell_type": "markdown",
      "metadata": {
        "id": "jM4KbgkZQY_U"
      },
      "source": [
        "\n",
        "# **Simple test**"
      ]
    },
    {
      "cell_type": "code",
      "metadata": {
        "colab": {
          "base_uri": "https://localhost:8080/"
        },
        "id": "L6mynz_vQoiX",
        "outputId": "b04ee7bd-9fc4-4281-d4ab-9311a398e479"
      },
      "source": [
        "def sum(i1, i2):\n",
        "    result = 0\n",
        "    for i in range(i1, i2):\n",
        "        result += i\n",
        "    return result\n",
        "\n",
        "def main():\n",
        "    print(\"Sum from 3 to 15 is\", sum(3, 16)) \n",
        "    print(\"Sum from 18 to 45 is\", sum(42, 46))\n",
        "    print(\"Sum from 42 to 53 is\", sum(42, 55))\n",
        "\n",
        "main() # Call the main function"
      ],
      "execution_count": 6,
      "outputs": [
        {
          "output_type": "stream",
          "name": "stdout",
          "text": [
            "Sum from 3 to 15 is 117\n",
            "Sum from 18 to 45 is 174\n",
            "Sum from 42 to 53 is 624\n"
          ]
        }
      ]
    },
    {
      "cell_type": "code",
      "metadata": {
        "colab": {
          "base_uri": "https://localhost:8080/"
        },
        "id": "4yQrsLcsNmQr",
        "outputId": "802bbaae-10a9-442b-a2e1-29bd761cbf5a"
      },
      "source": [
        "def sum(i1, i2, i3):\n",
        "    result = 0\n",
        "    for i in range(i1, i2, i3):\n",
        "        result += i\n",
        "    return result\n",
        "\n",
        "def main():\n",
        "    print(\"Sum from 3 to 15 is\", sum(3, 16, 1)) \n",
        "    print(\"Sum from 18 to 45 is\", sum(18, 46, 2))\n",
        "    print(\"Sum from 42 to 53 is\", sum(42, 54, 3))\n",
        "\n",
        "main() # Call the main function"
      ],
      "execution_count": 5,
      "outputs": [
        {
          "output_type": "stream",
          "name": "stdout",
          "text": [
            "Sum from 3 to 15 is 117\n",
            "Sum from 18 to 45 is 434\n",
            "Sum from 42 to 53 is 186\n"
          ]
        }
      ]
    },
    {
      "cell_type": "code",
      "metadata": {
        "colab": {
          "base_uri": "https://localhost:8080/"
        },
        "id": "UZT9TqbiR5gT",
        "outputId": "9d3cb848-3f03-4ce8-b873-1d623f45349c"
      },
      "source": [
        "def sum(t1, t2, t3):\n",
        "    result = 0\n",
        "    for t in range(t1, t2, t3):\n",
        "        result += t\n",
        "    return result\n",
        "\n",
        "def main():\n",
        "    print(\"Sum1\", sum(3, 16, 1)) \n",
        "    print(\"Sum2\", sum(18, 46, 2))\n",
        "    print(\"Sum3\", sum(42, 54, 3))\n",
        "\n",
        "main() # Call the main function"
      ],
      "execution_count": 11,
      "outputs": [
        {
          "output_type": "stream",
          "name": "stdout",
          "text": [
            "Sum1 117\n",
            "Sum2 434\n",
            "Sum3 186\n"
          ]
        }
      ]
    },
    {
      "cell_type": "code",
      "metadata": {
        "colab": {
          "base_uri": "https://localhost:8080/"
        },
        "id": "RjJ0_dxPSO1F",
        "outputId": "a1de7180-2dc2-4b89-9f3b-85188d2d6783"
      },
      "source": [
        "def swap(t,j):\n",
        "  t,j = j,t\n",
        "  return (t,j)\n",
        "\n",
        "if __name__ == '__main__':\n",
        "    t = 18\n",
        "    j = 25\n",
        "    print('t = %d,j = %d' % (t,j))\n",
        "    t,j = swap(t,j)\n",
        "    print('t = %d,j = %d' % (t,j))"
      ],
      "execution_count": 12,
      "outputs": [
        {
          "output_type": "stream",
          "name": "stdout",
          "text": [
            "t = 18,j = 25\n",
            "t = 25,j = 18\n"
          ]
        }
      ]
    },
    {
      "cell_type": "code",
      "metadata": {
        "colab": {
          "base_uri": "https://localhost:8080/"
        },
        "id": "aVlpwnDBUcmf",
        "outputId": "26d4f0eb-36bf-4fdb-9e8d-cfe47882cfc7"
      },
      "source": [
        "def sort(number1, number2):\n",
        "    if number1 < number2:\n",
        "        return number1, number2\n",
        "    else:\n",
        "        return number2, number1\n",
        "\n",
        "num1, num2 = sort(18, 28)\n",
        "\n",
        "print(\"num1 is\", num1)\n",
        "print(\"num2 is\", num2)"
      ],
      "execution_count": 13,
      "outputs": [
        {
          "output_type": "stream",
          "name": "stdout",
          "text": [
            "num1 is 18\n",
            "num2 is 28\n"
          ]
        }
      ]
    },
    {
      "cell_type": "code",
      "metadata": {
        "colab": {
          "base_uri": "https://localhost:8080/"
        },
        "id": "Xuxrb-BgX8BJ",
        "outputId": "f1685aa4-34cf-4a56-e5fb-af1ae25af33d"
      },
      "source": [
        "def sort(number1, number2, number3):\n",
        "    if (number1 < number2) and (number1 < number3):\n",
        "      if number2 < number3:\n",
        "        return number1, number2,number3\n",
        "      else:\n",
        "        return number1, number3,number2\n",
        "    if (number2 < number1) and (number2 < number3):\n",
        "      if number1 < number3:\n",
        "        return number2, number1,number3\n",
        "      else:\n",
        "        return number2, number3,number1    \n",
        "    if (number3 < number1) and (number3 < number2):\n",
        "      if number1 < number2:\n",
        "        return number3, number1,number2\n",
        "      else:\n",
        "        return number3, number2,number1 \n",
        "\n",
        "num1, num2, num3  = sort(18,28,45)\n",
        "\n",
        "print(\"num1 is\", num1)\n",
        "print(\"num2 is\", num2)\n",
        "print(\"num2 is\", num3)"
      ],
      "execution_count": 16,
      "outputs": [
        {
          "output_type": "stream",
          "name": "stdout",
          "text": [
            "num1 is 18\n",
            "num2 is 28\n",
            "num2 is 45\n"
          ]
        }
      ]
    },
    {
      "cell_type": "code",
      "metadata": {
        "id": "zamWSzwdfm9e"
      },
      "source": [
        "#!/usr/bin/python \n",
        "# -*- coding: UTF-8 -*- \n",
        "\n",
        "def printArea(width = 18, height = 20):\n",
        "    area = width * height\n",
        "    print(\"width:\", width, \"\\theight:\", height, \"\\tarea:\", area)"
      ],
      "execution_count": 21,
      "outputs": []
    },
    {
      "cell_type": "markdown",
      "metadata": {
        "id": "5DThGRdeiJ8j"
      },
      "source": [
        "# **Use Default Arguments**"
      ]
    },
    {
      "cell_type": "code",
      "metadata": {
        "colab": {
          "base_uri": "https://localhost:8080/"
        },
        "id": "PiwB__ckgJ6p",
        "outputId": "dcdd84f3-e631-4280-f922-cb615fa394ca"
      },
      "source": [
        "printArea()"
      ],
      "execution_count": 22,
      "outputs": [
        {
          "output_type": "stream",
          "name": "stdout",
          "text": [
            "width: 18 \theight: 20 \tarea: 360\n"
          ]
        }
      ]
    },
    {
      "cell_type": "markdown",
      "metadata": {
        "id": "W_e4j_1kgQhc"
      },
      "source": [
        "# **use Keyword arguments**"
      ]
    },
    {
      "cell_type": "code",
      "metadata": {
        "colab": {
          "base_uri": "https://localhost:8080/"
        },
        "id": "KWG8iiT4gU3E",
        "outputId": "5e3810da-dc50-4be5-ae18-4049fc5c576d"
      },
      "source": [
        "printArea(width = 18, height = 20)"
      ],
      "execution_count": 33,
      "outputs": [
        {
          "output_type": "stream",
          "name": "stdout",
          "text": [
            "width: 18 \theight: 20 \tarea: 360\n"
          ]
        }
      ]
    },
    {
      "cell_type": "code",
      "metadata": {
        "colab": {
          "base_uri": "https://localhost:8080/"
        },
        "id": "51BxWJH2hSHG",
        "outputId": "57047867-9aad-4528-8375-7625fb723f03"
      },
      "source": [
        "printArea(height = 20, width = 18)"
      ],
      "execution_count": 32,
      "outputs": [
        {
          "output_type": "stream",
          "name": "stdout",
          "text": [
            "width: 18 \theight: 20 \tarea: 360\n"
          ]
        }
      ]
    },
    {
      "cell_type": "markdown",
      "metadata": {
        "id": "rTJmH1Zsgf0z"
      },
      "source": [
        "# **use Positional arguments**"
      ]
    },
    {
      "cell_type": "code",
      "metadata": {
        "colab": {
          "base_uri": "https://localhost:8080/"
        },
        "id": "BMee5k1Ogh3P",
        "outputId": "590d7dc2-6929-4d5a-cb61-c624acec1cfa"
      },
      "source": [
        "printArea(18,20)"
      ],
      "execution_count": 31,
      "outputs": [
        {
          "output_type": "stream",
          "name": "stdout",
          "text": [
            "width: 18 \theight: 20 \tarea: 360\n"
          ]
        }
      ]
    },
    {
      "cell_type": "code",
      "metadata": {
        "colab": {
          "base_uri": "https://localhost:8080/"
        },
        "id": "xcUDmkxpgp0_",
        "outputId": "ea8c712e-cc8e-45a0-b33a-bec858d9029e"
      },
      "source": [
        "printArea(20,18)"
      ],
      "execution_count": 29,
      "outputs": [
        {
          "output_type": "stream",
          "name": "stdout",
          "text": [
            "width: 20 \theight: 18 \tarea: 360\n"
          ]
        }
      ]
    },
    {
      "cell_type": "markdown",
      "metadata": {
        "id": "SXp2uK9kkIKT"
      },
      "source": [
        "# **Power of Lambda Function**"
      ]
    },
    {
      "cell_type": "code",
      "metadata": {
        "colab": {
          "base_uri": "https://localhost:8080/"
        },
        "id": "oPnQ7fjqi0E_",
        "outputId": "12c0c19d-596b-4410-d0f9-a27e4563b80e"
      },
      "source": [
        "t1 = lambda x, y, z: x+3*y+4*z\n",
        "print(t1(6,5,8))"
      ],
      "execution_count": 35,
      "outputs": [
        {
          "output_type": "stream",
          "name": "stdout",
          "text": [
            "53\n"
          ]
        }
      ]
    },
    {
      "cell_type": "code",
      "metadata": {
        "colab": {
          "base_uri": "https://localhost:8080/"
        },
        "id": "yHjMggo5jlMH",
        "outputId": "e71c6e5a-fb11-4284-e02e-66a0de4056a5"
      },
      "source": [
        "def myfunc(m):\n",
        "    return m*m\n",
        "\n",
        "my_list = [7, 10, 15, 19, 22]\n",
        "\n",
        "## 使用python的map()\n",
        "\n",
        "print(list(map(lambda x:myfunc(x), my_list)))"
      ],
      "execution_count": 36,
      "outputs": [
        {
          "output_type": "stream",
          "name": "stdout",
          "text": [
            "[49, 100, 225, 361, 484]\n"
          ]
        }
      ]
    }
  ]
}